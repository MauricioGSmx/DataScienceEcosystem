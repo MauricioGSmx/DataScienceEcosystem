{
 "cells": [
  {
   "cell_type": "markdown",
   "id": "ac89278a-e97c-4f14-b769-84c1c96ae0be",
   "metadata": {
    "tags": []
   },
   "source": [
    "# Data Science Tools and Ecosystem"
   ]
  },
  {
   "cell_type": "markdown",
   "id": "ce076aab-6164-4c0f-9de2-e005620db16b",
   "metadata": {},
   "source": [
    "In this notebook, Data Science Tools and Ecosystem are summarized."
   ]
  },
  {
   "cell_type": "markdown",
   "id": "cefecc39-2ee4-4fa3-89a9-c1ad7999936d",
   "metadata": {},
   "source": [
    "**Objectives:**\n",
    "- List popular languages for Data Science\n",
    "- List common Python libraries for Data Science\n",
    "- List 3 development environment open source tools used in data science\n",
    "- Arithmetic expressions examples in Python"
   ]
  },
  {
   "cell_type": "markdown",
   "id": "67838fea-fb33-4d5b-a189-85dd46611607",
   "metadata": {},
   "source": [
    "These are some of the most popular languages in Data Science:\n",
    "1. Python\n",
    "2. R\n",
    "3. SQL\n",
    "4. Scala\n",
    "5. Java\n",
    "6. C++\n",
    "7. Julia\n",
    "8. JavaScript\n",
    "9. PHP\n",
    "10. Ruby"
   ]
  },
  {
   "cell_type": "markdown",
   "id": "7abae265-0119-45ee-81da-972878e36c74",
   "metadata": {},
   "source": [
    "Some of the commonly used Python libraries used by Data Scientists include:\n",
    "1. Matplotlib\n",
    "2. NumPy\n",
    "3. Pandas\n",
    "4. PyTorch\n",
    "5. TensorFlow"
   ]
  },
  {
   "cell_type": "markdown",
   "id": "51af3403-a1fe-49fb-a57e-3872959b14ce",
   "metadata": {},
   "source": [
    "Development environment open source tools used in data science:\n",
    "| Data Science Tools |\n",
    "| --- |\n",
    "| Jupyter Notebook |\n",
    "| Git/GitHub |\n",
    "| RStudio |\n"
   ]
  },
  {
   "cell_type": "markdown",
   "id": "4e59042b-a8c0-443e-b93d-e44978b5c170",
   "metadata": {},
   "source": [
    "### Below are a few examples of evaluating arithmetic expressions in Python"
   ]
  },
  {
   "cell_type": "code",
   "execution_count": 6,
   "id": "2db6041d-14dd-485e-8a51-c991f797a83e",
   "metadata": {},
   "outputs": [
    {
     "data": {
      "text/plain": [
       "17"
      ]
     },
     "execution_count": 6,
     "metadata": {},
     "output_type": "execute_result"
    }
   ],
   "source": [
    "# This a simple arithmetic expression to mutiply then add integers\n",
    "\n",
    "x=(3*4)+5\n",
    "x"
   ]
  },
  {
   "cell_type": "code",
   "execution_count": 7,
   "id": "e297d5ec-f207-4179-aef4-a72595265556",
   "metadata": {},
   "outputs": [
    {
     "name": "stdout",
     "output_type": "stream",
     "text": [
      "3.3333333333333335 hours.\n"
     ]
    }
   ],
   "source": [
    "# This will convert 200 minutes to hours by diving by 60.\n",
    "min=200\n",
    "hrs=min/60\n",
    "print(hrs, \"hours.\")"
   ]
  },
  {
   "cell_type": "markdown",
   "id": "a6d0146a-eb49-4ce7-864b-2df92cc99705",
   "metadata": {},
   "source": [
    "## Author\n",
    "Mauricio Gonzalez-Suarez"
   ]
  }
 ],
 "metadata": {
  "kernelspec": {
   "display_name": "Python",
   "language": "python",
   "name": "conda-env-python-py"
  },
  "language_info": {
   "codemirror_mode": {
    "name": "ipython",
    "version": 3
   },
   "file_extension": ".py",
   "mimetype": "text/x-python",
   "name": "python",
   "nbconvert_exporter": "python",
   "pygments_lexer": "ipython3",
   "version": "3.7.12"
  }
 },
 "nbformat": 4,
 "nbformat_minor": 5
}
